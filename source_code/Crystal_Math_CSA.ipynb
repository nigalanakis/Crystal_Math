{
 "cells": [
  {
   "cell_type": "markdown",
   "id": "a75375f4-f154-495b-8942-a71536440543",
   "metadata": {},
   "source": [
    "# Crystal Math CSA\n",
    "## A Mathematical and Geometrical Crystal Structure Analysis Protocol\n",
    "\n",
    "### Nikos Galanakis\n",
    "Research Scientist<br>\n",
    "The Tuckerman Group<br>\n",
    "New York University<br>\n",
    "ng1807@nyu.edu"
   ]
  },
  {
   "cell_type": "markdown",
   "id": "a3dfff48-dcff-4a01-81ce-7a999465e962",
   "metadata": {},
   "source": [
    "<details>\n",
    "<summary><h2 style='display: inline;'>Features</h2></summary><br>\n",
    "\n",
    "CrystalMath provides a comprehensive statistical analysis of molecular crystal structures from the CSD database and custom structures in the *.cif format. It offers deep insights into molecular packing trends, intermolecular interactions, and the topological nuances that dictate these patterns.\n",
    "\n",
    "The algorithm begins with a systematic exploration of the CSD, extracting and analyzing topological and geometrical data. This method integrates a fundamental understanding that molecular crystals conform to specific geometrical constraints and topological patterns. Through statistical analysis, CrystalMath derives logical rules and predictive models that enhance our understanding of molecular structures.\n",
    "\n",
    "This section outlines the main features of the Crystal Math software, which include analysis of existing structures within the CSD and predictions of molecular crystal structures."
   ]
  },
  {
   "cell_type": "markdown",
   "id": "bae29057-4f7c-481f-8e76-b711f3d3a2f3",
   "metadata": {},
   "source": [
    "<details>\n",
    "<summary><h3 style='display: inline;'>Analysis of Existing Structures within the CSD</h3></summary><br>\n",
    "\n",
    "This feature represents the algorithm’s investigative aspect, wherein it meticulously explores the repository of the CSD to extract and analyze structural data. The process employs a sophisticated fragment-based approach to assess molecular geometry, allowing it to discern subtle nuances and patterns within the crystal structures.\n",
    "\n",
    "This computational process is not merely a data retrieval mechanism. It involves the calculation of crucial geometrical and topological properties, including:\n",
    "\n",
    "* Relative orientation\n",
    "\n",
    "* Plane intersections with unit cell vertices\n",
    "\n",
    "* Close contacts\n",
    "\n",
    "* Hydrogen bonds\n",
    "\n",
    "* Void analysis in the unit cell\n",
    "\n",
    "These computations are invaluable, forming the bedrock of the dataset that the subsequent predictive stage will utilize. The adaptability of this feature allows researchers to set specific criteria, enabling the algorithm to target structures that bear direct relevance to their studies, thereby ensuring a customized, relevant, and rich analytical output."
   ]
  },
  {
   "cell_type": "markdown",
   "id": "3941e93a-a70a-4361-8d9e-a0ae996e8149",
   "metadata": {},
   "source": [
    "<details>\n",
    "<summary><h3 style='display: inline;'>Prediction of Molecular Crystal Structures</h3></summary><br>\n",
    "\n",
    "Building upon the robust foundation laid by the analytical phase, the prediction feature marks the algorithm’s leap into the realm of prospective crystallography. This innovative function does not merely extrapolate from existing data but employs a rigorous mathematical, geometrical, and topological framework to envision and predict feasible crystal structures.\n",
    "\n",
    "Bypassing traditional methods that rely heavily on force fields and energy calculations, this feature stands out due to its unique approach, essentially rewriting the rules of crystal structure prediction. By utilizing the detailed insights gleaned from the analysis of existing CSD structures, the algorithm assesses countless possibilities and predicts structures that are not just theoretically plausible but ripe for synthesis and experimental verification."
   ]
  },
  {
   "cell_type": "markdown",
   "id": "0bad830e-e2d3-4975-a5eb-d3742b70452f",
   "metadata": {},
   "source": [
    "<details>\n",
    "<summary><h3 style='display: inline;'>Detailed Analysis of Existing CSD Structures</h3></summary><br>\n",
    "\n",
    "The algorithm delves into the CSD, applying user-defined criteria to identify and analyze structures pertinent to your research. These criteria could range from the atomic species present in the crystal to more complex attributes such as:\n",
    "\n",
    "* Space group\n",
    "\n",
    "* $Z^{\\prime}$ value\n",
    "\n",
    "* Molecular weight for the components within the asymmetric unit"
   ]
  },
  {
   "cell_type": "markdown",
   "id": "1d3a129f-3894-42a4-823c-f18d51b980d6",
   "metadata": {},
   "source": [
    "<details>\n",
    "<summary><h4 style='display: inline;'>Fragment-Based Analysis</h4></summary><br>\n",
    "\n",
    "The script communicates with the CSD database, seeking structures that align with specific user-defined rules. Upon identifying the relevant structures, the algorithm proceeds to extract critical data, focusing particularly on geometric and topological properties that inform the subsequent prediction phase.\n",
    "\n",
    "A pivotal aspect of the CSP Algorithm’s analytical prowess hinges on its geometric interpretation of intermolecular forces, by extracting properties for the close contacts and hydrogen bonding within crystal structures. These interactions are not merely physical constraints but are insightful topological and energetic indicators that guide the strategic assembly of molecular crystals."
   ]
  },
  {
   "cell_type": "markdown",
   "id": "5b6e73ca-71cd-4b3e-8ad3-f15293415ca5",
   "metadata": {},
   "source": [
    "<details>\n",
    "<summary><h4 style='display: inline;'>Geometrical and Topological Properties Analysis</h4></summary><br>\n",
    "\n",
    "The extracted data encompasses several key molecular aspects, with calculations and analyses including, but not limited to:\n",
    "\n",
    "* **Orientation Relative to Inertia Frame:** Assessing molecular and fragmentary orientation within the unit cell, referenced against their inertia frames. This analysis goes beyond simple spatial representation; it is a profound exploration of the positional relationship between molecular fragments and the encompassing lattice geometry. The algorithm calculates the orientations by establishing a molecule’s inertia frame, a defined coordinate system based on the molecule’s moment of inertia. This frame serves as a reference point, allowing for a standardized comparison of molecular orientations. With this approach, the algorithm can systematically analyze how different fragments within a molecule orient themselves relative to each other and their collective orientation within the unit cell.\n",
    "\n",
    "* **Relative positions of principal planes of inertia:** The algorithm computes the distances of certain points in a unit cell to the pnincipal planes of inertia (planes perpendicular to the principal axes of inertia, passing through the center of mass of each fragment). This calculation is instrumental in understanding the molecule’s spatial orientation and placement.\n",
    "\n",
    "* **Inter-Fragment Correlations:** By observing the relative orientations of fragments within a molecule, the algorithm unveils potential correlations in geometric conformations. These insights are crucial for understanding the molecule’s structural dynamics, offering clues about its stability, reactivity, or interactions with neighboring entities.\n",
    "\n",
    "* **Molecule-Unit Cell Interplay:** Expand the analysis to explore how the molecule fits and orients itself within the unit cell. This exploration can reveal critical insights into whether the molecule’s orientation is influenced by the unit cell’s geometric constraints, contributing to a deeper understanding of the crystal packing phenomena.\n",
    "\n",
    "* **Predictive Insights for New Structures:** By identifying trends and correlations between molecular orientation and unit cell geometry, the algorithm can hypothesize about probable orientations for molecules in novel crystal structures, providing a reliable foundation for anticipating the behavior of molecules in uncharted configurations.\n",
    "\n",
    "In essence, the orientation analysis relative to the inertia frame is not a mere calculation but a holistic examination of the molecule’s spatial narrative. It provides contextual insights that are indispensable for predicting how new molecular assemblies might accommodate themselves within various lattice frameworks, essentially influencing the design strategy for new materials with desired properties.\n",
    "\n",
    "* **Close Contacts:** Traditional analysis of close contacts often stops at identifying distances shorter than the sum of van der Waals radii. However, the CSP Algorithm delves deeper, recognizing that the strength of these contacts is an extremely important topological property, intimately tied to the interaction energy’s minimum. By examining a comprehensive matrix of atomic species pairs and their distribution across various space groups, the algorithm calculates the optimal strength of close contacts. In addition, it analyzes the spatial distribution of the contacts in respect to the center of mass for each fragment. This analysis provides a benchmark for constructing molecular crystals with judicious interatomic interactions, ensuring structural stability without compromising the lattice’s integrity. These calculated parameters are instrumental during the prediction phase, where the algorithm utilizes this statistical backbone to forecast interaction energies, guiding the assembly of molecules within the crystal lattice in a manner that’s energetically favorable.\n",
    "\n",
    "* **Hydrogen Bonds:** The analysis of the hydrogen bonds within the crystal matrix, provide insights into their geometric configuration which is tied to their energetic profile. This understanding is crucial because hydrogen bonds impart significant directional character to molecular arrangements in crystal lattices, influencing both structure and properties. The CSP Algorithm evaluates the geometry of potential hydrogen bond, ensuring not only geometric precision but also the right balance of strength and directionality in these interactions. This information is vital for constructing viable hydrogen-bonded networks, especially in complex molecular crystals where these interactions dictate structural feasibility and stability.\n",
    "\n",
    "* **Voids in Unit Cell:** Analyzing the van der Waals free volume and solvent-accessible surface within the crystal lattice provides insights into the potential for molecular movement, stability under pressure, or where guest molecules might reside."
   ]
  },
  {
   "cell_type": "markdown",
   "id": "cae5f064-1840-454e-a592-2b1d9c53cba6",
   "metadata": {},
   "source": [
    "<details>\n",
    "<summary><h2 style='display: inline;'>Installation</h2></summary><br>\n",
    "    \n",
    "We highly recommend using **Anaconda** for its ease of package management and environment handling, as it includes numerous scientific computing packages that facilitate a smoother setup process."
   ]
  },
  {
   "cell_type": "markdown",
   "id": "385bafc8-6fd6-49df-87bd-650dd0a1b48b",
   "metadata": {},
   "source": [
    "<details>\n",
    "<summary><h3 style='display: inline;'>Download and Install Anaconda</h3></summary><br>\n",
    "\n",
    "Visit the [Anaconda Distribution page](https://www.anaconda.com/products/distribution) to download and install the distribution. Please ensure you download the version that includes `Python 3.9` or higher."
   ]
  },
  {
   "cell_type": "markdown",
   "id": "d9636037-b41c-4594-a308-e11b45506fdd",
   "metadata": {
    "jp-MarkdownHeadingCollapsed": true
   },
   "source": [
    "<details>\n",
    "<summary><h3 style='display: inline;'>Required Python Packages</h3></summary><br>\n",
    "\n",
    "The following Python packages are necessary for running Crystal Math:\n",
    "\n",
    "* `ast`\n",
    "* `datetime`\n",
    "* `itertools`\n",
    "* `json`\n",
    "* `matplotlib`\n",
    "* `networkx`\n",
    "* `numpy`\n",
    "* `os`\n",
    "* `scipy`\n",
    "* `re`\n",
    "* `time`\n",
    "\n",
    "These can be installed using the following command:\n",
    "\n",
    "```sh\n",
    "    pip install matplotlib networkx numpy scipy\n",
    "```\n",
    "\n",
    "<br>Note that some packages (`ast`, `datetime`, `itertools`, `json`, `os`, `re`, `time`) are part of the Python Standard Library and do not need installation via pip."
   ]
  },
  {
   "cell_type": "markdown",
   "id": "eeaf1dc6-0ec9-4ddd-8254-d7c13c0cf615",
   "metadata": {},
   "source": [
    "<details>\n",
    "<summary><h3 style='display: inline;'>Installing the CSD Python API</h3></summary><br>\n",
    "\n",
    "The current version requires the installation of the CSD Python API, which is crucial for the statistical analysis phase and for retrieving molecular structure data. Due to specific installation instructions and licensing, please refer to the [official installation notes](https://downloads.ccdc.cam.ac.uk/documentation/API/installation_notes.html) for detailed guidance. Adhere strictly to their guidelines to ensure full functionality within the CSP algorithm environment."
   ]
  },
  {
   "cell_type": "markdown",
   "id": "92e92d7d-7c69-4d40-bad2-d2d4b24174ee",
   "metadata": {},
   "source": [
    "<details>\n",
    "<summary><h3 style='display: inline;'>Installing the code</h3></summary><br>\n",
    "\n",
    "The code itself requires **no installation** of additional software packages or libraries, other than Git for obtaining the code. Simply follow the steps below to clone the repository to your local machine and run the code directly.\n",
    "\n",
    "**Git**: Git is a version control system that lets you manage and keep track of your source code history. If you don't already have Git installed, you can download it from [the Git website](https://git-scm.com/downloads)"
   ]
  },
  {
   "cell_type": "markdown",
   "id": "ce05c67c-e85c-4d66-9c40-6cb58c93954e",
   "metadata": {},
   "source": [
    "<details>\n",
    "<summary><h4 style='display: inline;'>Cloning the Repository</h4></summary><br>\n",
    "\n",
    "Cloning a repository means making a copy of the code on your local machine. This is done via Git. To clone the repository, follow these steps:\n",
    "\n",
    "1. Open a terminal window. On Windows, you can search for `CMD` or `Command Prompt` in your start menu. On macOS, you can open the Terminal from your Applications folder under Utilities.\n",
    "\n",
    "2. Use the following command to clone the repository:\n",
    "   \n",
    "```sh\n",
    "        git clone https://github.com/nigalanakis/Crystal_Math\n",
    "```\n",
    "\n",
    "3. After the cloning process is complete, navigate to the newly created directory:\n",
    "\n",
    "```sh\n",
    "        cd your-repository\n",
    "```"
   ]
  },
  {
   "cell_type": "markdown",
   "id": "d24ef807-63a0-445d-8645-727195d5240c",
   "metadata": {},
   "source": [
    "<details>\n",
    "<summary><h3 style='display: inline;'>Directories Structure</h3></summary><br>\n",
    "\n",
    "The source code can be executed by placing it in a parent directory, for instance, ``crystal_math``. Begin by creating the necessary directories within the main working directory (``crystal_math``):\n",
    "\n",
    "```\n",
    "    crystal_math/\n",
    "    ├── csd_db_analysis/\n",
    "    │   ├── db_data/\n",
    "    │   ├── visualize/\n",
    "    │   └── data_analysis/\n",
    "    ├── source_code/\n",
    "    └── source_data/\n",
    "        └── cif_files/\n",
    "```\n",
    "\n",
    "* ``source_code``\n",
    "\tAll ``*.py`` code files should be placed here.\n",
    "\t\n",
    "* ``source_data``\n",
    "\tPlace the user-generated `fragment_list.json` here.\n",
    "\t\n",
    "* ``cif_files``\n",
    "\tAny custom ``*.cif`` files should be placed here."
   ]
  },
  {
   "cell_type": "markdown",
   "id": "52e203fc-6c2d-4bc8-9354-3ddc11fdc0cf",
   "metadata": {},
   "source": [
    "<details>\n",
    "<summary><h4 style='display: inline;'>Files Description</h4></summary><br>\n",
    "\n",
    "Each file in the Crystal Math software serves a specific function as outlined below:\n",
    "\n",
    "* ``csd_data_extraction.py``\n",
    "\tMain file for the execution of the data extraction.\n",
    "\n",
    "* ``csd_operations.py``\n",
    "\tModule to perform operations to identify and cluster CSD structure families and identify unique structures based on user-defined criteria.\n",
    "\n",
    "* ``get_structures_list.py``\n",
    "\tFunction to get the structures list for the analysis.\n",
    "\n",
    "* ``create_reference_fragments.py``\n",
    "\tFunction to convert user-generated fragments in the ``fragments_list.json`` to reference fragments in the space-fixed coordinate system, stored in ``reference_fragments_list.json``.\n",
    "\n",
    "* ``get_structure_data.py``\n",
    "\tFunction to perform the data extraction from the selected structures.\n",
    "\n",
    "* ``structure_operations.py``\n",
    "\tModule to perform the necessary operations to each structure.\n",
    "\n",
    "* ``maths.py``\n",
    "\tModule with the required mathematical functions.\n",
    "\n",
    "* ``utilities.py``\n",
    "\tModule with several utility functions.\n",
    "\n",
    "* ``io_operations.py``\n",
    "\tModule for the input/output operations."
   ]
  },
  {
   "cell_type": "markdown",
   "id": "0d2520b8-fc81-4927-b96d-f7c25f307211",
   "metadata": {},
   "source": [
    "<details>\n",
    "<summary><h2 style='display: inline;'>Running the Code</h2></summary><br>\n",
    "\n",
    "This algorithm can perform two distinct tasks:\n",
    "\n",
    "1. **Data Extraction:** Extract data from the CSD (Cambridge Structural Database) and/or *.cif files.\n",
    "2. **Data Analysis:** Analyze data based on several user-defined structural criteria.\n",
    "\n",
    "To begin, select the desired tasks by setting the `data_extraction` and `data_analysis` variables to `True` or `False` in the following cell."
   ]
  },
  {
   "cell_type": "code",
   "execution_count": 1,
   "id": "2c01b3a8-e773-45ad-a1cb-58929df7a293",
   "metadata": {},
   "outputs": [],
   "source": [
    "data_extraction = True\n",
    "data_analysis = False"
   ]
  },
  {
   "cell_type": "markdown",
   "id": "aba108d9-d333-48cd-8a71-78f7b17ad671",
   "metadata": {},
   "source": [
    "<details>\n",
    "<summary><h3 style='display: inline;'>Creating the Reference Fragment List</h3></summary><br>\n",
    "\n",
    "The code includes a `fragment_list.json` file containing information on several fragments commonly encountered in molecular crystal structures. This file can be customized based on user needs. Each entry in the dictionary is formatted as follows:\n",
    "\n",
    "```python\n",
    "{\n",
    "    \"benzene\": {\n",
    "    \t\"smarts\": \"c1ccccc1\", \n",
    "\t\t\"atoms\": [\"C\",\"C\",\"C\",\"C\",\"C\",\"C\"],\n",
    "    \t\"pos\": [\n",
    "    \t\t[ 1.3750, 0.0000, 0.0000],\n",
    "    \t\t[ 0.6875, 1.1908, 0.0000],\n",
    "    \t\t[-0.6875, 1.1908, 0.0000],\n",
    "    \t\t[-1.3750, 0.0000, 0.0000],\n",
    "    \t\t[-0.6875,-1.1908, 0.0000],\n",
    "    \t\t[ 0.6875,-1.1908, 0.0000]],\n",
    "    \t\"mass\": [12.0107, 12.0107, 12.0107, 12.0107, 12.0107, 12.0107],\n",
    "    \t\"atoms_to_align\": \"all\"}\n",
    "}\n",
    "```\n",
    "\n",
    "- `smarts`\n",
    "    The SMARTS notation representing the chemical structure of the fragment.\n",
    "  \n",
    "- `species`\n",
    "    List of atomic species corresponding to the atoms in the fragment.\n",
    "\n",
    "- `coordinates`\n",
    "    Positions of the atoms in the fragment in any coordinate system. These will be automatically converted to space-fixed reference coordinates by the `create_reference_fragments.py` script.\n",
    "\n",
    "- `mass`\n",
    "    List of atomic masses for each atom in the fragment.\n",
    "\n",
    "- `atoms_to_align`\n",
    "    Specifies which atoms in the fragment to use for alignment. It designates specific atoms within the fragment for orientation synchronization with a corresponding fragment identified in a crystal structure. This approach is particularly useful for fragments that exhibit indistinguishable, mirror-image formations, such as oxygens in a structure like `[#6]S(=O)(=O)[NH2]`, where traditional SMARTS representation may fall short. Accepts:\n",
    "\n",
    "    - `\"all\"`: Use all atoms for alignment.\n",
    "\n",
    "    - List of integers: Specific atom indices to be used for alignment, essential in cases of mirror symmetries in the fragment structure.\n",
    " \n",
    "The current fragment list contains common simple fragments. Users are encouraged to add any fragment of interest in the `fragment_list.json` file in order to get the required data on the topological and geometrical properties. It is not required to align the molecule to any axis in the `fragment_list.json` file. The alignment of the fragments to the reference coordinate system is performed at the first step of the data extracion process by the `create_reference_fragments` function."
   ]
  },
  {
   "cell_type": "markdown",
   "id": "1cc0a4bd-a6c5-4e94-99a8-78654be7e1f6",
   "metadata": {},
   "source": [
    "<details>\n",
    "<summary><h3 style='display: inline;'>Set the Input Parameters</h3></summary><br>\n",
    "\n",
    "The next step is to set the input parameters for the data extration and data analysis tasks."
   ]
  },
  {
   "cell_type": "markdown",
   "id": "a1534942-313c-4649-aae7-1c618d97ef96",
   "metadata": {},
   "source": [
    "<details>\n",
    "<summary><h4 style='display: inline;'>General Input Parameters</h4></summary><br>\n",
    "\n",
    "The following parameters are used for both data extraction and data analysis tasks:\n",
    "\n",
    "- `data_directory`: Specifies the directory where the extracted data will be saved or read from.\n",
    "- `plots_directory`: Specifies the directory where the generated plots will be saved.\n",
    "- `data_analysis_directory`: Specifies the directory where the data from the analysis tasks will be saved.\n",
    "- `data_extraction_prefix`: Defines the prefix for naming the extracted data files.\n",
    "- `data_analysis_prefix`: Defines the prefix for naming the analysis data files and plots.\n",
    "\n",
    "**NOTE**: The `data_directory`, `plots_directory`, `data_analysis_directory` are set to the default values provided in the **Directories Structure** section. Changing the values for these variables will affect the directories structure according to the selected values."
   ]
  },
  {
   "cell_type": "code",
   "execution_count": 2,
   "id": "cf513bd3-a6fc-459b-ab09-264598a5ea7e",
   "metadata": {},
   "outputs": [],
   "source": [
    "data_directory = '../csd_db_analysis/db_data/'\n",
    "plots_directory = '../csd_db_analysis/visualize/'\n",
    "data_analysis_directory = '../csd_db_analysis/data_analysis/'\n",
    "data_extraction_prefix = 'homomolecular'\n",
    "data_analysis_prefix = 'test'"
   ]
  },
  {
   "cell_type": "markdown",
   "id": "89aa319f-f689-4969-b61d-18efc248b9a4",
   "metadata": {},
   "source": [
    "<details>\n",
    "<summary><h4 style='display: inline;'>Data Extraction Input Parameters</h4></summary><br>\n",
    "\n",
    "The following parameters are specific to the data extraction process and should be adjusted according to user needs each time a data extraction task is performed. For ease of use, the parameters are grouped into three categories based on their functionality."
   ]
  },
  {
   "attachments": {},
   "cell_type": "markdown",
   "id": "cc081b61-ab42-4056-b0c8-ee4069e39ff7",
   "metadata": {},
   "source": [
    "<details>\n",
    "<summary><h5 style='display: inline;'>Data Extraction Tasks</h5></summary><br>\n",
    "\n",
    "The following paramaters define the tasks that will be executed durind the data extraction process.\n",
    "\n",
    "- `get_refcode_families`\n",
    "\tWhen set to `True`, extracts all refcode families from the CSD, saving the output as `'data_extraction_prefix'_csd_refcode_families.json` within the\n",
    "`db_data` directory.\n",
    "\n",
    "- `cluster_refcode_families`\n",
    "\tWhen set to `True`, clusters the structures for each refcode family. Results are saved as `'data_extraction_prefix'_csd_refcode_families_clustered.json`.\n",
    "\n",
    "- `get_unique_structures`\n",
    "\tRetrieves unique structures for each cluster from the CSD and saves them as `'data_extraction_prefix'_csd_refcode_families_unique_structures.json`.\n",
    "\n",
    "- `get_structure_data`\n",
    "\tSet to `True`, performs data extraction on the selected structures.\n",
    "\n",
    "- `get_structure_filter_data`\n",
    "\tSet to `True`, creates a file with the summarized properties for the structures that can be used to filter structures for the analysis."
   ]
  },
  {
   "cell_type": "code",
   "execution_count": 3,
   "id": "d88adf0b-35d0-4312-87d4-c6b19f688779",
   "metadata": {},
   "outputs": [],
   "source": [
    "extraction_actions = {\n",
    "    'get_refcode_families': True,\n",
    "    'cluster_refcode_families': True,\n",
    "    'get_unique_structures': True,\n",
    "    'get_structure_data': True,\n",
    "    'get_structure_filter_data': True\n",
    "}"
   ]
  },
  {
   "attachments": {},
   "cell_type": "markdown",
   "id": "2c95e01d-2c1e-4da2-84f2-6053f472c94c",
   "metadata": {},
   "source": [
    "<details>\n",
    "<summary><h5 style='display: inline;'>Structure Filtering Parameters for Data Extraction</h5></summary><br>\n",
    "\n",
    "The following parameters define the filters that will be applied when extracting data from the CSD database.\n",
    "\n",
    "- `unique_structures_clustering_method`\n",
    "\tThe property that defines the unique structures. Available options are\n",
    "    - `'energy'`: selects structures with the lowest intermolecular lattice energy.\n",
    "    - `'vdWFV'`: selects structures with the lowest vdW free volume.\n",
    "\n",
    "- `structure_list`\n",
    "\tDefines the types of structures to analyze. For the first key, the available options are \n",
    "\t\n",
    "\t- `'csd-all'` for all structures\n",
    "\t- `'csd-unique'` for unique structures\n",
    "\t- `'cif'` for user-provided `*.cif` files. T\n",
    "\t\n",
    "\tThe second key can get the value \n",
    "\t\n",
    "\t- `'all'` to extract data for all structures matching the user defined criteria \n",
    "\t\n",
    "\tor you can extract data from specific structures and/or specific compounds, by providing a list of the desired structures in the following format:\n",
    "\t\n",
    "\t- `[['ACSALA', [0,1,11]], ['ACRDIN','all'],...]` In each sublist, the first entry is the RefCode family name, and the second can be a list of specific entries such as `[0,1,11]` or it can be set to `'all'` to search for all the entries for the specific RefCode family. In the case we require to analyze specific entries, the indices must match what is available in the database. In the `'ACSALA'` example, the indices `[0,1,11]` are valid when combined with the `'csd-all'` key. When searching for unique structures however, the only valid keys are `[24,32,35]` corresponding to the lowest energy structures for each of the three known polymorphs.\n",
    "\n",
    "- `structures_to_exclude`\n",
    "\tList of structures that cause kernel errors and are thus excluded.\n",
    "\n",
    "- `crystal_type`\n",
    "\tA list for the type of crystal structures to analyze. Options include `'homomolecular'`, `'co-crystal'`, `'hydrate'`.\n",
    "\n",
    "- `target_species`\n",
    "\tList of allowed atomic species. Structures not containing these are discarded.\n",
    "\n",
    "- `target_space_groups`\n",
    "\tSpecifies allowable space groups.\n",
    "\n",
    "- `target_z_prime_values`\n",
    "\tFilters structures by $Z^{\\prime}$.\n",
    "\n",
    "- `target_fragments`\n",
    "\tFilters structures by specific target fragments.\n",
    "\n",
    "- `molecule_weight_limit`\n",
    "\tMaximum allowable molecular weight per component in the asymmetric unit.\n",
    "\n",
    "- `molecule_formal_charges`\n",
    "\tAllowed molecular charges; typically set to `[0]` for neutral structures.\n",
    "\n",
    "- `center_molecule`\n",
    "\tSet to `True` to center the molecule in the unit cell (recommended).\n",
    "\n",
    "- `add_full_component`\n",
    "\tSet to `True` to analyze complete components in the unit cell along with fragments.\n",
    "\n",
    "- `fragments_to_check_alignment`\n",
    "\tFilter unwanted fragments in case of identical smarts representation."
   ]
  },
  {
   "cell_type": "code",
   "execution_count": 4,
   "id": "c9fdf09f-d506-4086-8e18-740a5fd84fcb",
   "metadata": {},
   "outputs": [],
   "source": [
    "extraction_filters = {\n",
    "    'unique_structures_clustering_method': 'vdWFV',\n",
    "    'structure_list': ['csd-unique', 'all'],\n",
    "    'structures_to_exclude': ['BALDUP', 'CEMVAS', 'DAGRIN', 'DAHKUV', 'FADGEW', 'HUPCUT', 'JIKXOT', 'LUQDAE', 'PEVLOR', 'TEVYAV', 'VIRLOY', 'ZEPDAZ04'],\n",
    "    'crystal_type': ['homomolecular'],\n",
    "    'target_species': ['C', 'H', 'N', 'O', 'F', 'Cl', 'Br', 'I', 'P', 'S'],\n",
    "    'target_space_groups': ['P1', 'P-1', 'P21', 'C2', 'Pc', 'Cc', 'P21/m', 'C2/m', 'P2/c', 'P21/c', 'P21/n', 'C2/c', 'P21212', 'P212121', 'Pca21', 'Pna21', 'Pbcn', 'Pbca', 'Pnma', 'R-3', 'I41/a'],\n",
    "    'target_z_prime_values': [1, 2, 3, 4, 5],\n",
    "    'target_fragments': [],\n",
    "    'molecule_weight_limit': 500.0,\n",
    "    'molecule_formal_charges': [0],\n",
    "    'center_molecule': True,\n",
    "    'add_full_component': True,\n",
    "    'fragments_to_check_alignment': []\n",
    "}"
   ]
  },
  {
   "attachments": {},
   "cell_type": "markdown",
   "id": "d1f5f875-4b30-4faf-a759-d18829b053c5",
   "metadata": {},
   "source": [
    "<details>\n",
    "<summary><h5 style='display: inline;'>Topological Properties Parameters</h5></summary><br>\n",
    "\n",
    "The following parameters set values that are used for the calculation of topological properties during the data extraction process.\n",
    "\n",
    "- `proposed_vectors_n_max`\n",
    "\tMaximum value for each component of a crystallographic vector from the set $\\mathbf{n}_c$, suggested value is `5`."
   ]
  },
  {
   "cell_type": "code",
   "execution_count": 5,
   "id": "ab3c9154-d9e3-4606-a247-03915db21822",
   "metadata": {},
   "outputs": [],
   "source": [
    "topological_properties = {\n",
    "    'proposed_vectors_n_max': 5\n",
    "}"
   ]
  },
  {
   "cell_type": "markdown",
   "id": "44ba6ba5-1d3b-4ea2-91b3-9329f1f6f273",
   "metadata": {},
   "source": [
    "<details>\n",
    "<summary><h4 style='display: inline;'>Data Analysis Input Parameters</h4></summary><br>\n",
    "\n",
    "The following parameters are specific to the data analysis process and should be adjusted according to user needs each time a data analysis task is performed. For ease of use, the parameters are grouped into three categories based on their functionality."
   ]
  },
  {
   "cell_type": "markdown",
   "id": "1794e8ed-07e2-4e15-bac5-a846873d22d5",
   "metadata": {},
   "source": [
    "<details>\n",
    "<summary><h5 style='display: inline;'>Data Analysis Tasks</h5></summary><br>\n",
    "\n",
    "The following paramaters define the tasks that will be executed durind the data analysis process.\n",
    "\n",
    "- `get_ploting_data`\n",
    "\tWhen set to `True`, the algorithm reads the structure data and creates a dictionary with the data required to generate the user-defined set of histograms/scatter plots.\n",
    "\n",
    "- `create_histograms`\n",
    "\tWhen set to `True`, the algorithm generates histogram plots for the selected set of variables.\n",
    "\n",
    "- `create_2D_scatter_plots`\n",
    "\tWhen set to `True`, the algorithm generates 2D scatter plots for the selected set of variables.\n",
    "\n",
    "- `create_3D_scatter_plots`\n",
    "\tWhen set to `True`, the algorithm generates 3D scatter plots for the selected set of variables.\n",
    "\n",
    "- `create_corellation_maps`\n",
    "\tWhen set to `True`, the algorithm generates corellation maps for the selected set of variables (**NOT IMPLEMENTED YET**)."
   ]
  },
  {
   "cell_type": "code",
   "execution_count": 6,
   "id": "3b7866e0-4477-4753-a02e-e7d5669aebd8",
   "metadata": {},
   "outputs": [],
   "source": [
    "analysis_actions = {\n",
    "    'get_ploting_data': False,\n",
    "    'create_histograms': False,\n",
    "    'create_2D_scatter_plots': False,\n",
    "    'create_3D_scatter_plots': False,\n",
    "    'create_corellation_maps': False\n",
    "}"
   ]
  },
  {
   "cell_type": "markdown",
   "id": "2d000324-2d83-4ee1-ab46-b1d545e7e7e5",
   "metadata": {},
   "source": [
    "<details>\n",
    "<summary><h5 style='display: inline;'>Structure Filtering Parameters for Data Analysis</h5></summary><br>\n",
    "\n",
    "The following parameters define the filters that will be applied when analyzing extracted data. Each filter can be set to `None` to use all the available strucutres in the extrated data folder. The filters can be separated into three groups\n",
    "\n",
    "**Group 1:** `target_families`, `target_structures`, `target_space_groups`, `target_z_crystal_values`, `target_z_prime_values`, `target_species`:\n",
    "\n",
    "These filters determine respectively the refcode families, structure refcodes, space groups, $Z$ values, $Z^{\\prime}$ values and molecular composition of the strucutres that will be used in the analysis/plotting of data. When a filter is applied, the filtering values must be provided in a list. \n",
    "\n",
    "**Group 2:** `target_structure_fragments`, `target_contact_pairs`, `target_contact_central_fragments`, `target_contact_fragment_pairs`:\n",
    "\n",
    "These filters determine the specific characteristics for the structures that will be included in the analysis regarding the fragments found in the structure, the available contact pairs, the central fragments for the contacts and the fragment pairs for the contacts. These filters can help refine the analysis into the required detail level. Again, the values for each filter must be formatted appropriately. When a filter is applied, the filtering values must be provided in a list followed by an **combination option key** `'or'` or `'and'` that determines if any or all of the selected values must be found in the structure.\n",
    "\n",
    "For example, consider the following set of filters:\n",
    "  \n",
    "```python\n",
    "{\n",
    "    'target_families': ['ACSALA','ACRDIN'],\n",
    "    'target_structures': ['ACSALA24','ACSALA35','ACRDIN05','ACRDIN06','ACRDIN08'],\n",
    "    'target_space_groups': ['P21/c','P212121','Cc'],\n",
    "    'target_z_crystal_values': [4,8,12],\n",
    "    'target_z_prime_values': [1,2,3],\n",
    "    'target_species': ['C','H','O'],\n",
    "    'target_structure_fragments': [['carboxylic_acid','acridin'],'or'],\n",
    "    'target_contact_pairs': [[['O','H','hbond',True],['H','O','hbond',True]],'or'],\n",
    "    'target_contact_central_fragments': [['carboxylic_acid','acridin'],'or'],\n",
    "    'target_contact_fragment_pairs': [[['carboxylic_acid','carboxylic_acid'],['carboxylic_acid','acridin']],'or']\n",
    "}\n",
    "```\n",
    "- The `target_families` filter forces the algorithm to use only structures in the two families `ACSALA` and `ACRDIN`: (`ACSALA24`, `ACSALA32`, `ACSALA35`, `ACRDIN05`, `ACRDIN06`, `ACRDIN08`, `ACRDIN11`, `ACRDIN12`, `ACRDIN13`)\n",
    "\n",
    "- The `target_structures` option filters the structures to use only the particular refcode entries: `ACSALA32`, `ACRDIN11`, `ACRDIN12`, `ACRDIN13` will not be used.\n",
    "\n",
    "- The `target_space_groups` option allows only structues in the `P21/c`, `P212121` and `Cc` to be used, and as a result, `ACRDIN06` will not be used.\n",
    "\n",
    "- The `target_z_crystal_values` will use only structures with $Z=4,8,12$ and it will have no effect on the structures, since all the previously selected structures (`ACSALA24`, `ACSALA35`, `ACRDIN05`, `ACRDIN08`) have $Z$ values within the list of allowed structures.\n",
    "\n",
    "- Similarily, the `target_z_prime_values` filter will have no effect on the list of selected structures.\n",
    "\n",
    "- The `target_species` filter allows only structures composed of C, H, and O atoms to be included in the analysis, and as a result, the acridin structures will be filtered out.  \n",
    "\n",
    "- The `target_structure_fragments` filter determines which fragments should be found in a structure. The user can select if all or any of the fragments in the list must be present in the structure by setting the combination option key to `'and'` or `'or'` respectively. In the example above, the algorithm will allow all the structures that include either `carboxylic_acid` OR `acridin` fragments, and as a result, structures `ACSALA24` and `ACSALA35` will proceed to the next step, as they include the `carboxylic_acid` fragment. By setting the combination option key to `'and'` the algorithm would allow only structures that contain both `carboxylic_acid` AND `acridin` fragments to be included in the analysis and the aspirin structures would be filtered out.\n",
    "\n",
    "- The `target_contact_pairs` filter check if the selected types of contacts appear in the structure. The contact pairs format is as follows: `['atom 1','atom 2','contact type','is in line of sight']`, where\n",
    "    - `atom 1` is the first atom (central atom) in the contact pair located in the central fragment (reference fragment).\n",
    "    - `atom 2` is the second atom (contact atom) in the contact pair located in the contact fragment.\n",
    "    - `contact type` is the type of the contact (`'vdW'` or `'hbond'`)\n",
    "    - `is in line of sight` is `True` for contacts that are in line of sight and `False` otherwise.\n",
    "\n",
    "    In the example above, the filter asks to include structures that have OH and HO hydrogen bonds that are in line of sight. Both structures include the selected types of bonds and so both structures will be accepted by the filter.\n",
    "\n",
    "- The `target_contact_central_fragments` filter checks if the selected central fragment(s) of the contacts appear in the selected structures. In the case of the `ACSALA24` and `ACSALA35` structures, there are several contacts formed by the central `carboxylic_acid` fragment so both structures will be accepted by the filter. However, if the combination activation key was set to `'and'`, the algorithm would accept structures that have both `carboxylic_acid` and `acridin` as central fragments in contact pairs and the structures would be filtered out.\n",
    "\n",
    "- The `target_contact_fragment_pairs` filter, similar to the `target_contact_pairs` checks if a contact is formed between the selected pair of fragments. In the example above, the OH hydrogen bonds are formed between two `carboxylic_acid` fragments, and structures `ACSALA24` and `ACSALA35` will be accepted from the filter. Again, if the combination activation key was set to `'and'`, the algorithm would accept structures that have contacts formed between `carboxylic_acid` and `acridin` fragments and the structures would be filtered out.\n",
    "\n",
    "In the following code cell, we selected to apply only a small set of filters that is found to be appropriate for an example use of the code. When this filter is applied, the code includes in the analysis all the structures that include a `carboxylic_acid` fragment and OH/HO hydrogen bonds that are in line of sight."
   ]
  },
  {
   "cell_type": "code",
   "execution_count": 7,
   "id": "25664435-4240-42f1-82e0-5088aa323592",
   "metadata": {},
   "outputs": [],
   "source": [
    "analysis_data_filters = {\n",
    "    'target_families': None,\n",
    "    'target_structures': None,\n",
    "    'target_space_groups': None,\n",
    "    'target_z_crystal_values': None,\n",
    "    'target_z_prime_values': None,\n",
    "    'target_species': None,\n",
    "    'target_structure_fragments': [['carboxylic_acid'],'or'],\n",
    "    'target_contact_pairs': [[['O','H','hbond',True],['H','O','hbond',True]],'or'],\n",
    "    'target_contact_central_fragments': None,\n",
    "    'target_contact_fragment_pairs': None\n",
    "}   "
   ]
  },
  {
   "cell_type": "markdown",
   "id": "03287a39-f82c-4ea8-b39d-a5f1095ddd6c",
   "metadata": {},
   "source": [
    "<details>\n",
    "<summary><h5 style='display: inline;'>Set the General Plot Options</h5></summary><br>\n",
    "\n",
    "The following options are general for the plotting of data.\n",
    "\n",
    "- `individual_space_groups`: Set to `True` to plot data for structures in any of the selected space groups as well as for each of the selected space groups separately. Setting to `False` will only create plots for structures in any of the selected space groups.\n",
    "\n",
    "- `output_format`: A list of the required output formats. The list can include the values `'png'` and/or `'html'`. The `'png'` option will generate publication-ready (300 dpi) LaTeX generated plots in `*.png` format using the `matplotlib` package. The `'html'` option will generate interactive `*.html` plots using the `plotly` package that are ideal for detailed exploration of the data.\n",
    "\n",
    "- `figure_size` sets the size (W $\\times$ H) for the generated `*.png` plots. It has no effect on the `*.html` plots.\n",
    "\n",
    "- `save_figures`. Set to `True` to save the generated plots in the  `'../csd_db_analysis/visualize/'data_analysis_prefix'_analysis/` folder."
   ]
  },
  {
   "cell_type": "code",
   "execution_count": 8,
   "id": "21e15177-dfa3-4c63-8797-bf25e01af295",
   "metadata": {},
   "outputs": [],
   "source": [
    "general_plot_options = {\n",
    "    'individual_space_groups': False,\n",
    "    'output_format': ['png','html'],\n",
    "    'figure_size': [5,3.75],\n",
    "    'save_figures': True\n",
    "}"
   ]
  },
  {
   "cell_type": "markdown",
   "id": "80747d0f-54e5-4279-81bc-cb48e7ebb37d",
   "metadata": {},
   "source": [
    "<details>\n",
    "<summary><h5 style='display: inline;'>Set the Variables and Options for the Histograms</h5></summary><br>\n",
    "\n",
    "In the following cell, we define the options for the histogram generation. The `histogram_options` dictionary has two entries:\n",
    "\n",
    "- `variables`: This includes the variables that will be included for the generation of the histograms. For each variable, we create a list with 4 items in the following format: `[[variable name], filters, calculate density, fit KDE cirve]`.\n",
    "    \n",
    "    - `variable name` is the name of the variable, as defined in the `variables.json` dictionary which includes the complete list of the available variables.\n",
    "    - `filters` is a dictionary with the available filters that will be applied. Each key in the dictionary must be an appropriate variable from the `variables.json` dictionary and each value is a list of the available values for the specific filter. In the following code cell, for the variables `'fragment_atom_x'` and `'fragment_atom_u'` we selected to include in the plot only oxygen atoms that are part of a `carboxylic_acid` fragment. The filters are defined based on the variable family for each variable, that can be found in the `variables.json` dictionary. There are 5 families of variables and each of them accepts a specific set of filters as follows:\n",
    "\n",
    "      **Structure family:**\n",
    "      - `'z_crystal'`\n",
    "      - `'z_prime'`\n",
    "      \n",
    "      <br>**Fragment family:**\n",
    "      - `'z_crystal'`\n",
    "      - `'z_prime'`\n",
    "      - `'fragment'`\n",
    "      \n",
    "      <br>**Contact family:**\n",
    "      - `'z_crystal'`\n",
    "      - `'z_prime'`\n",
    "      - `'cc_central_atom_fragment'`\n",
    "      - `'cc_contact_atom_fragment'`\n",
    "      - `'cc_central_atom_species'`\n",
    "      - `'cc_contact_atom_species'`\n",
    "      - `'cc_type'`\n",
    "      - `'cc_is_in_los'`\n",
    "      \n",
    "      <br>**Fragment atom family:**\n",
    "      - `'z_crystal'`\n",
    "      - `'z_prime'`\n",
    "      - `'fragment'`\n",
    "      - `'fragment_atom_species'`\n",
    "      \n",
    "      <br>**Contact atom family:**\n",
    "      - `'z_crystal'`\n",
    "      - `'z_prime'`\n",
    "      - `'cc_central_atom_fragment'`\n",
    "      - `'cc_contact_atom_fragment'`\n",
    "      - `'cc_central_atom_species'`\n",
    "      - `'cc_contact_atom_species'`\n",
    "      - `'cc_type'`\n",
    "      - `'cc_is_in_los'`\n",
    "      - `'cc_length'`\n",
    "\n",
    "    - `calculate density`: Set to `True` to create a density histogram and `False` to create a frequency histogram.\n",
    "      \n",
    "    - `fit KDE curve`: Set to `True` fit a KDE curve to the data. This will automaticaly set the `calculate density` option to `True`. The algorithm will fit a KDE curve, identify the maximum of the KDE curve and include the information for the maximum on the plot.\n",
    "    \n",
    "- `colors`: This includes a list of the available options for the visual formatting of the histograms. For the available list of colors please visit the [matplotlib list of named colors page](https://matplotlib.org/stable/gallery/color/named_colors.html).\n",
    "    \n",
    "    - `bar`: The color for the bars.\n",
    "    - `line`: The color for the lines.\n",
    "    - `fit`: The color for the fit KDE curve (if activated).\n",
    "    - `point`: The color for the data point corresponding to the maximum value of the fit KDE curve."
   ]
  },
  {
   "cell_type": "code",
   "execution_count": 9,
   "id": "d52e26c2-31c7-41ff-bade-f1bd300f6641",
   "metadata": {},
   "outputs": [],
   "source": [
    "histograms_options = {\n",
    "    'variables': [\n",
    "        [['cell_length_a'], None, False, False],\n",
    "        [['fragment_atom_x'],{'fragment_atom_species': ['O'], 'fragment': ['carboxylic_acid']}, False, False],\n",
    "        [['fragment_atom_u'],{'fragment_atom_species': ['O'], 'fragment': ['carboxylic_acid']}, False, True]\n",
    "    ],\n",
    "    'colors': {'bar': 'lightskyblue', \n",
    "               'line': 'steelblue',\n",
    "               'fit': 'red',\n",
    "               'point': 'red'}\n",
    "}"
   ]
  },
  {
   "cell_type": "markdown",
   "id": "008bf5d0-d76f-4263-9a62-e8bf5c225098",
   "metadata": {},
   "source": [
    "<details>\n",
    "<summary><h5 style='display: inline;'>Set the Variables and Options for the 2D Scatter Plots</h5></summary><br>\n",
    "\n",
    "In the following cell, we define the options for the 2D scatter plot generation. The `scatter_plots_2D_options` dictionary has two entries:\n",
    "\n",
    "- `variables`: This includes the variables that will be included for the generation of the histograms. For each variable, we create a list with 4 items in the following format: `[[variable name 1, variable name 2], filters, KDE densities]`.\n",
    "    \n",
    "    - `variable name 1` and `variable name 2` are the name of the variables that will be used for the scatter plot, as defined in the `variables.json` dictionary.\n",
    "    - `filters` is a dictionary with the available filters that will be applied. For the filtering options please refer to the **Set the Variables and Options for the Histograms** section.\n",
    "    - `KDE densities` is a list of the density ranges that will be used to generate the plots. Setting this value to `None` will generate a simple scatter plot with no densities calculated. The coloring for the density plots is by default based on the `jet` color map, where denser regions are plotted as red and sparce regions are plotted as blue.\n",
    "       \n",
    "- `markers`: This includes a list of the available options for the formatting of the markers. For the available list of colors please visit the [matplotlib list of named colors page](https://matplotlib.org/stable/gallery/color/named_colors.html)\n",
    "    - `shape` defines the symbol that will be used for the data points. The symbols for matplotlib and plotly correspond to the `*.png` and `*.html` outpout formats respectively. For a list of the available options visit hte [matplotlib markers official guide](https://matplotlib.org/stable/api/markers_api.html) and the [plotly markers official guide](https://plotly.com/python/marker-style/).      \n",
    "    - `face_color`: The fill color for the data points.\n",
    "    - `edge_color`: The edge color for the data points.\n",
    "    - `size`: The size of the data points.\n",
    "    - `opacity`: The opacity of the data points."
   ]
  },
  {
   "cell_type": "code",
   "execution_count": 10,
   "id": "6e68a446-17a8-4519-ab17-a0a452fd2a36",
   "metadata": {},
   "outputs": [],
   "source": [
    "scatter_plots_2D_options = {\n",
    "    'variables': [\n",
    "        [['cell_length_b_sc','cell_length_c_sc'],None,None],\n",
    "        [['fragment_atom_u','fragment_atom_v'],{'fragment_atom_species': ['O'], 'fragment': ['carboxylic_acid']},[0,10,25,50,75,90]],\n",
    "        [['cc_contact_atom_ref_bv_x','cc_contact_atom_ref_bv_y'],{'cc_central_atom_fragment': ['carboxylic_acid']},[0,10,25,50,75,90]]\n",
    "    ],\n",
    "    'markers': {'shape': {'matplotlib': 'o', 'plotly': 'circle'},\n",
    "                'face_color': 'red',\n",
    "                'edge_color': 'black',\n",
    "                'size': 10,\n",
    "                'opacity': 0.5}\n",
    "}"
   ]
  },
  {
   "cell_type": "markdown",
   "id": "d9b686e8-dcf3-4af8-9eab-969c1d355a20",
   "metadata": {},
   "source": [
    "<details>\n",
    "<summary><h5 style='display: inline;'>Set the Variables and Options for the 3D Scatter Plots</h5></summary><br>\n",
    "\n",
    "In the following cell, we define the options for the 3D scatter plot generation. The `scatter_plots_3D_options` is formatted similarly to the `scatter_plots_2D_options` dictionary. The only difference is that the first item in the `variables` entry is a list `[variable name 1, variable name 2, variable name 3]` of the three variables that will be used for the plot.\n",
    "\n",
    "In the case where the set of variables is `['cc_contact_atom_ref_bv_x','cc_contact_atom_ref_bv_y','cc_contact_atom_ref_bv_z']`, which plots the positions of the contacts relative to the reference fragment, the algorithm will also identify and plot the positions of the atoms of the reference fragment. **In this case it is required recommended to specify a single value for the `cc_central_atom_fragment'` filter.**\n"
   ]
  },
  {
   "cell_type": "code",
   "execution_count": 11,
   "id": "eafd17ab-e236-4d60-8c06-09df6e73cf3e",
   "metadata": {},
   "outputs": [],
   "source": [
    "scatter_plots_3D_options = {\n",
    "    'variables': [\n",
    "        [['cc_contact_atom_ref_bv_x','cc_contact_atom_ref_bv_y','cc_contact_atom_ref_bv_z'],{'cc_central_atom_fragment': ['carboxylic_acid'], 'cc_contact_atom_fragment': ['carboxylic_acid'],'cc_central_atom_species': ['O'],'cc_contact_atom_species': ['H'],'cc_type': ['hbond'], 'cc_is_in_los': [True]},[0,10,25,50,75,90]]\n",
    "    ],\n",
    "    'markers': {'shape': {'matplotlib': 'o', 'plotly': 'circle'},\n",
    "                'face_color': 'red',\n",
    "                'edge_color': 'black',\n",
    "                'size': 10,\n",
    "                'opacity': 0.5}\n",
    "}"
   ]
  },
  {
   "cell_type": "markdown",
   "id": "0edfbf66-4a3b-402d-87e8-595378834c7a",
   "metadata": {},
   "source": [
    "<details>\n",
    "<summary><h4 style='display: inline;'>Input Parameters Check</h4></summary><br>\n",
    "\n",
    "The following cell checks the validity of the user-defined input parameters."
   ]
  },
  {
   "cell_type": "code",
   "execution_count": 12,
   "id": "3183e597-090c-4f01-a8bc-7c570ac3cd54",
   "metadata": {},
   "outputs": [],
   "source": [
    "from input_checks import check_input_parameters\n",
    "\n",
    "check_input_parameters(data_analysis,data_extraction,extraction_actions,extraction_filters,analysis_actions,topological_properties)"
   ]
  },
  {
   "cell_type": "markdown",
   "id": "811f0417-47ae-4e83-8628-301d302b5365",
   "metadata": {},
   "source": [
    "<details>\n",
    "<summary><h3 style='display: inline;'>Import Modules</h3></summary><br>\n",
    "\n",
    "The initial step to run the code is to import the required modules that are necessary to perform the data extraction and data analysis tasks."
   ]
  },
  {
   "cell_type": "markdown",
   "id": "ae77523e-75f8-43ae-95d9-9aa9327e2321",
   "metadata": {},
   "source": [
    "##### Python Packages"
   ]
  },
  {
   "cell_type": "code",
   "execution_count": 13,
   "id": "9014abb6-7fc0-4737-8bc0-490b264d9c6c",
   "metadata": {},
   "outputs": [],
   "source": [
    "import json\n",
    "import os\n",
    "from datetime import datetime\n",
    "from time import process_time as timer   "
   ]
  },
  {
   "cell_type": "markdown",
   "id": "b6f9df99-28be-41be-b452-0d953a36817c",
   "metadata": {},
   "source": [
    "##### Custom Modules"
   ]
  },
  {
   "cell_type": "code",
   "execution_count": 14,
   "id": "db8e9248-ef13-429a-aad6-08842f4a7af4",
   "metadata": {},
   "outputs": [
    {
     "name": "stderr",
     "output_type": "stream",
     "text": [
      "C:\\Users\\nikol\\anaconda3\\envs\\Crystal_Math\\lib\\site-packages\\sklearn\\utils\\multiclass.py:14: DeprecationWarning: Please use `spmatrix` from the `scipy.sparse` namespace, the `scipy.sparse.base` namespace is deprecated.\n",
      "  from scipy.sparse.base import spmatrix\n",
      "C:\\Users\\nikol\\anaconda3\\envs\\Crystal_Math\\lib\\site-packages\\sklearn\\utils\\optimize.py:18: DeprecationWarning: Please use `line_search_wolfe2` from the `scipy.optimize` namespace, the `scipy.optimize.linesearch` namespace is deprecated.\n",
      "  from scipy.optimize.linesearch import line_search_wolfe2, line_search_wolfe1\n",
      "C:\\Users\\nikol\\anaconda3\\envs\\Crystal_Math\\lib\\site-packages\\sklearn\\utils\\optimize.py:18: DeprecationWarning: Please use `line_search_wolfe1` from the `scipy.optimize` namespace, the `scipy.optimize.linesearch` namespace is deprecated.\n",
      "  from scipy.optimize.linesearch import line_search_wolfe2, line_search_wolfe1\n"
     ]
    }
   ],
   "source": [
    "from csd_operations import get_refcode_families, cluster_refcode_families, get_unique_structures\n",
    "from generate_molecule_fragments import create_reference_fragments\n",
    "from get_structure_data import get_structure_data, get_structure_filter_data\n",
    "from get_analysis_data import get_analysis_data\n",
    "from utilities import convert_seconds_to_hms\n",
    "from visualize import create_histogram, create_scatter_plot"
   ]
  },
  {
   "cell_type": "markdown",
   "id": "021a8e8b-0cac-4966-8b8b-56705a238d7a",
   "metadata": {},
   "source": [
    "<details>\n",
    "<summary><h3 style='display: inline;'>Extract Data</h3></summary><br>\n",
    "\n",
    "In the following cells, the code executes the data extraction tasks defined by the user."
   ]
  },
  {
   "cell_type": "markdown",
   "id": "e869c388-b6e7-471d-b15c-b40e95a2324f",
   "metadata": {},
   "source": [
    "<details>\n",
    "<summary><h4 style='display: inline;'>Create Data Extraction Input Parameters Dictionary</h4></summary><br>\n",
    "\n",
    "The input data must be converted to a dictionary that is passed to the data extraction functions."
   ]
  },
  {
   "cell_type": "code",
   "execution_count": 15,
   "id": "77fd90a3-1faf-4c61-9ba7-567d5b4b805d",
   "metadata": {},
   "outputs": [],
   "source": [
    "extraction_input_parameters = {\n",
    "    'data_directory': data_directory,\n",
    "    'data_prefix': data_extraction_prefix,\n",
    "    'get_refcode_families': extraction_actions['get_refcode_families'],\n",
    "    'cluster_refcode_families': extraction_actions['cluster_refcode_families'],\n",
    "    'get_unique_structures': extraction_actions['get_unique_structures'],\n",
    "    'get_structure_data': extraction_actions['get_structure_data'],\n",
    "    'get_structure_filter_data': extraction_actions['get_structure_filter_data'],\n",
    "    'unique_structures_clustering_method': extraction_filters['unique_structures_clustering_method'],\n",
    "    'structure_list': extraction_filters['structure_list'],\n",
    "    'structures_to_exclude': extraction_filters['structures_to_exclude'],\n",
    "    'crystal_type': extraction_filters['crystal_type'],\n",
    "    'target_species': extraction_filters['target_species'],\n",
    "    'target_space_groups': extraction_filters['target_space_groups'],\n",
    "    'target_z_prime_values': extraction_filters['target_z_prime_values'],\n",
    "    'target_fragments': extraction_filters['target_fragments'],\n",
    "    'molecule_weight_limit': extraction_filters['molecule_weight_limit'],\n",
    "    'molecule_formal_charges': extraction_filters['molecule_formal_charges'],\n",
    "    'center_molecule': extraction_filters['center_molecule'],\n",
    "    'add_full_component': extraction_filters['add_full_component'],\n",
    "    'fragments_to_check_alignment': extraction_filters['fragments_to_check_alignment'],\n",
    "    'proposed_vectors_n_max': topological_properties['proposed_vectors_n_max']\n",
    "}"
   ]
  },
  {
   "cell_type": "markdown",
   "id": "f2e133bc-b3c8-4ccd-9353-9007b01e06f4",
   "metadata": {},
   "source": [
    "#### Start Timing the Data Extraction Process and Print Start Time "
   ]
  },
  {
   "cell_type": "code",
   "execution_count": 16,
   "id": "fa300ea3-f419-4039-b0d0-ef7025f9e3e0",
   "metadata": {},
   "outputs": [
    {
     "name": "stdout",
     "output_type": "stream",
     "text": [
      "Data Extraction Process Started At  2024-07-22 23:27:51\n"
     ]
    }
   ],
   "source": [
    "if data_extraction:\n",
    "    now = datetime.now()    \n",
    "    start = timer()\n",
    "    print('Data Extraction Process Started At ', now.strftime('%Y-%m-%d %H:%M:%S'))"
   ]
  },
  {
   "cell_type": "markdown",
   "id": "c43d8de1-a4dd-40f7-b234-6494c9717e58",
   "metadata": {},
   "source": [
    "#### Create/Update the Reference Fragment List"
   ]
  },
  {
   "cell_type": "code",
   "execution_count": 17,
   "id": "0a9014de-dacc-4ed0-b9de-7a71d6f0dbb4",
   "metadata": {},
   "outputs": [],
   "source": [
    "if data_extraction:\n",
    "    create_reference_fragments()"
   ]
  },
  {
   "cell_type": "markdown",
   "id": "bd1478a6-5d32-42bb-a12c-21ee1b9ab78f",
   "metadata": {},
   "source": [
    "<details>\n",
    "<summary><h4 style='display: inline;'>Get the Refcode Families</h4></summary><br>\n",
    "    \n",
    "The data extraction process is initialized by reading the list of entries in the CSD database and creating a dictionary of the refcode families. The process creates the dictionary ``'data_extraction_prefix'_csd_refcode_families.json``. Each entry in the dictionary is a refcode family, and the values is a list of the structures in the CSD that are members of the particular family. For examply, for the aspirin structures (Refcode family: ``ACSALA``) we get the entry:\n",
    "\n",
    "```python\n",
    "{\n",
    "    ...\n",
    "    'ACSALA': [\n",
    "        'ACSALA',\n",
    "        'ACSALA01',\n",
    "        'ACSALA02',\n",
    "        ...,\n",
    "        'ACSALA35'\n",
    "        ],\n",
    "    ...\n",
    "}\n",
    "```\n",
    "\n",
    "<br>**NOTE 1:** Unless a new CSD version is released including new structures, this step needs to be performed only once.\n",
    "<br>**NOTE 2:** For the analysis of ``*.cif`` files this step is not required!"
   ]
  },
  {
   "cell_type": "code",
   "execution_count": 18,
   "id": "846cce37-92dc-490d-9d87-45522d19b27b",
   "metadata": {},
   "outputs": [],
   "source": [
    "if data_extraction and extraction_input_parameters['get_refcode_families']:\n",
    "    print('Getting the CSD refcode families and the structures in each family.')\n",
    "    get_refcode_families(extraction_input_parameters)"
   ]
  },
  {
   "cell_type": "markdown",
   "id": "721b82a6-86d3-40a7-a5ab-012f4f10e566",
   "metadata": {},
   "source": [
    "<details>\n",
    "<summary><h4 style='display: inline;'>Cluster Refcode Families Based on Structure Similarity</h4></summary><br>\n",
    "\n",
    "Many entries in the CSD correspond to the same polymorph for a particular compound. For all structures in a refcode family, the function ``cluster_refcode_families()`` performs a similarity check using the COMPACK algorithm and identifies all the entries that correspond to a specific polymorph.\n",
    "To avoid unnecessary structure comparisons, the algorithm utilizes the function ``structure_check()`` within the ``csd_operations.py`` module, to discard structures that do not satisfy the user-define structure filtering criteria. The process creates a new dictionary ``'data_extraction_prefix'_csd_refcode_families_clustered.json``. Each entry in the dictionary is again a refcode family, and the values is a list of the clusters found for the particular family. Each cluster is a list that contains all the CSD entries for a particular polymorph.  In the case of the aspirin family, the process creates three clusters and the dictionary entry is as follows:\n",
    "\n",
    "```python\n",
    "{\n",
    "    ...\n",
    "    'ACSALA': [\n",
    "        'ACSALA',\n",
    "        'ACSALA01',\n",
    "        'ACSALA02',\n",
    "        ...,\n",
    "        'ACSALA35'\n",
    "        ],\n",
    "        [\n",
    "        'ACSALA13',\n",
    "        'ACSALA15',\n",
    "        ...,\n",
    "        'ACSALA32\n",
    "        ],\n",
    "        [\n",
    "        'ACSALA23',\n",
    "        'ACSALA24'\n",
    "        ]\n",
    "    ...\n",
    "}\n",
    "```\n",
    "\n",
    "<br>**NOTE 1:** This process needs to be repeated each time the user wants to perform an analysis on a different set of structures using different filtering criteria.\n",
    "<br>**NOTE 2:** For the analysis of ``*.cif`` files this step is not required!"
   ]
  },
  {
   "cell_type": "code",
   "execution_count": 19,
   "id": "84a24c01-6f6c-4bc9-870d-111c0df96eaf",
   "metadata": {},
   "outputs": [],
   "source": [
    "if data_extraction and extraction_input_parameters['cluster_refcode_families']:\n",
    "    print('Filter structures based on the user defined criteria and clustering refcode families members based on packing similarity.')\n",
    "    cluster_refcode_families(extraction_input_parameters)"
   ]
  },
  {
   "cell_type": "markdown",
   "id": "707567a8-d0d1-442a-9b20-811f9a02e7ba",
   "metadata": {},
   "source": [
    "<details>\n",
    "<summary><h4 style='display: inline;'>Get unique structures</h4></summary><br>\n",
    "\n",
    "Analyzing multiple entries for a specific polymorph (entries corresponding to the same cluster of structures in the ``'data_extraction_prefix'_csd_refcode_families_clustered.json`` dictionary), creates almost duplicates of data that can create missleading results. For this reason, it is necessary to identify and cluster identical structures. For each structure in a cluster of entries, the function ``get_unique_structures()`` calculates the intermolecular energy using the UNI potentials available in the CSD Python API, and keeps the structure with the lowest energy (Future developments of the code will offer more options for the clustering of similar structures). The process creates a new dictionary of structures ``'data_extraction_prefix'_csd_refcode_families_unique_structures.json``. Each entry is a refcode family and the values is a list of the unique structures identified for the particular refcode family. In the case of the aspirin family the entry s as follows: \n",
    "\n",
    "```python\n",
    "{\n",
    "    ...\n",
    "    'ACSALA' : [\n",
    "        'ACSALA24',\n",
    "        'ACSALA32',\n",
    "        'ACSALA35'\n",
    "        ],\n",
    "    ...\n",
    "}\n",
    "```\n",
    "\n",
    "<br>**NOTE 1:** This step should be repeated each time the user wants to perform an analysis on a different set of structures using different filtering criteria after running the ``cluster_refcode_families()`` function.\n",
    "<br>**NOTE 2:** For the analysis of ``*.cif`` files this step is not required!"
   ]
  },
  {
   "cell_type": "code",
   "execution_count": 20,
   "id": "2b8f97d8-a7f6-4b13-95e6-52bdc4e412d4",
   "metadata": {},
   "outputs": [
    {
     "name": "stdout",
     "output_type": "stream",
     "text": [
      "Getting unique structures.\n"
     ]
    }
   ],
   "source": [
    "if data_extraction and extraction_input_parameters['get_unique_structures']:\n",
    "    print('Getting unique structures.')\n",
    "    get_unique_structures(extraction_input_parameters)"
   ]
  },
  {
   "cell_type": "markdown",
   "id": "04ce800f-bb21-406b-b5b6-08d227505959",
   "metadata": {},
   "source": [
    "<details>\n",
    "<summary><h4 style='display: inline;'>Get Structure Data</h4></summary><br>\n",
    "\n",
    "Once the unique structure in the CSD are identified, the algorithm can extract data from any strucTrue in the ``'data_extraction_prefix'_csd_refcode_families_unique_structures.json`` dictionary. The process begins by creating a list of structures that will be analyzed. It then proceeds to loop over each structure to perform the following actions:\n",
    "\n",
    "- **Create Objects**: Creates the CSD crystal and molecule objects.\n",
    "\n",
    "- **Assign Properties**: Bond types, missing hydrogen atoms, and partial charges are assigned using:\n",
    "\n",
    "  - ``molecule.assign_bond_types()``\n",
    "  - ``molecule.add_hydrogens()``\n",
    "  - ``molecule.assign_partial_charges()``\n",
    "  \n",
    "These methods are available in the CSD Python API.\n",
    "\n",
    "- **Generate Atoms**: Generates the atoms using the ``molecule.atoms()`` method provided by the CSD Python API.\n",
    "\n",
    "- **Extract Properties**: Crystal properties are extracted using the ``get_csd_crystal_properties(crystal)`` function in the ``csd_operations.py`` module, employing a solvent accessible surface probe with a radius of 1.2 Ångström. The upper limit for close contacts is defined as :math:`(r_{vdW_i} + r_{vdW_j} + 0.6)`. Atom and molecule properties are extracted using the ``get_csd_atom_and_molecule_properties(crystal, molecule, atoms)`` function.\n",
    "\n",
    "- **Set Fragments**: Fragments in the structure are set using the ``get_csd_structure_fragments(input_parameters, structure, molecule)`` function. If 'add_full_component' is set to False and the structure lacks the required fragments from the ``fragment_list.json``, the script skips to the next structure.\n",
    "\n",
    "For each fragment in the structure, the algorithm performs extensive geometrical and topological analyses:\n",
    "\n",
    "- **Rotate and Align Fragments**:\n",
    "\n",
    "  - The reference fragment is rotated to align with the current fragment using the ``kabsch_rotation_matrix(A, B)`` function, which calculates the rotation matrix.\n",
    "  - Normal vectors for the principal planes of inertia are identified in the crystallographic coordinate system.\n",
    "\n",
    "- **Identify Vectors and Distances**:\n",
    "\n",
    "  - For each normal vector :math:`(e_i)`, the algorithm finds two vectors from the set :math:`\\mathbf{n}_c` that are closest to being perpendicular using ``vectors_closest_to_perpendicular(I, n_max)``.\n",
    "  - The minimum distance of each principal inertia plane to selected reference points in the unit cell is calculated using ``distance_to_plane(point, plane_normal, plane_point, normal=False)``.\n",
    "\n",
    "- **Contact Data**:\n",
    "\n",
    "  - Detailed data for each contact includes the type (vdW or H-bond), length, line of sight verification, and vectors related to central and contact fragments in both Cartesian and spherical coordinates. Each contact can appear in the data file up to :math:`2\\times N_A \\times N_B` times, where the coefficient ``2`` accounts for the exchange between the central and the contact atom and :math:`N_A,\\, N_B` is the number of fragments in which atoms :math:`A,\\,B` appear. For example, in the ``ACSALA24`` structure from the CSD database, a close contact forms between atoms :math:`\\ce{C1}` and :math:`\\ce{C2}`. Atom :math:`\\ce{C1}` is common to both the benzene and carboxylic acid fragments, while atom :math:`\\ce{C2}` is common to the benzene ring and the ester fragment. \n",
    "\n",
    "- **Hydrogen Bond Data**:\n",
    "\n",
    "  - For each H-bond, the algorithm determines the donor and acceptor atoms, bond length, donor-acceptor distance, bond angle, and line of sight status.\n",
    " \n",
    "Each structure's data is contained in a separate JSON file, stored in the folder ``db_data/'prefix'_structures``, where the ``'prefix'`` is set by the user in the input file. The file name for each structure is in the form ``'RefCode'.json``, where the ``'RefCode'`` is identical to the CSD RefCode of the structure. The following section provide an explanation of each key-value pair in the JSON structure, by using as an expample the output file for structure ``ACSALA35`` is the CSD. Each entry in the JSON file is structured as follows:\n",
    "\n",
    "```python\n",
    "{\n",
    "\t'crystal': {\n",
    "\t\t'str_id': 'ACSALA35',\n",
    "\t\t'space_group': 'P21/c',\n",
    "\t\t'z_crystal': 4.0,\n",
    "\t\t'z_prime': 1.0,\n",
    "\t\t'formula': 'C9 H8 O4',\n",
    "\t\t'species': ['C', 'H', 'O'],\n",
    "\t\t'cell_lengths': [11.185, 6.5719, 11.146],\n",
    "\t\t'scaled_cell_lengths': [1.0, 0.5876, 0.9965],\n",
    "\t\t'cell_angles': [90.0, 96.01, 90.0],\n",
    "\t\t'cell_volume': 814.8025,\n",
    "\t\t'cell_density': 1.4686,\n",
    "\t\t'vdWFV': 0.253,\n",
    "\t\t'SAS': 0.0,\n",
    "\t\t'lattice_vectors': [\n",
    "\t\t\t[11.185, 0.0, 0.0],\n",
    "\t\t\t[0.0, 6.5719, 0.0],\n",
    "\t\t\t[-1.167, 0.0, 11.0847]\n",
    "\t\t],\n",
    "\t\t'lattice_energy': {\n",
    "\t\t\t'total': -123.46,\n",
    "\t\t\t'electrostatic': 0.0,\n",
    "\t\t\t'vdW': -123.46,\n",
    "\t\t\t'vdW_attraction': -214.68,\n",
    "\t\t\t'vdW_repulsion': 91.223,\n",
    "\t\t\t'h-bond': 0.0,\n",
    "\t\t\t'h-bond_attraction': 0.0,\n",
    "\t\t\t'h-bond_repulsion': 0.0\n",
    "\t\t},\n",
    "\t\t'close_contacts': {\n",
    "\t\t\t'C4_F01.benzene_O1_F02.carboxylic_acid': {\n",
    "\t\t\t\t'cc_length': 3.5464,\n",
    "\t\t\t\t'cc_type': 'vdW',\n",
    "\t\t\t\t'cc_is_in_los': True,\n",
    "\t\t\t\t'cc_central_atom': {\n",
    "\t\t\t\t\t'atom': 'C',\n",
    "\t\t\t\t\t'fragment': 'benzene',                        \n",
    "\t\t\t\t\t'coordinates': {\n",
    "\t\t\t\t\t\t'cartesian': [-1.6689,4.8803,-2.1349],\n",
    "\t\t\t\t\t\t'fractional': [-0.1693,0.7426,-0.1926]\n",
    "\t\t\t\t\t},\n",
    "\t\t\t\t\t'bond_vectors': [-3.8744,2.4323,-3.2435],\n",
    "\t\t\t\t\t'reference_bond_vectors': [0.1525,4.5461,3.28]                       \n",
    "\t\t\t\t},\n",
    "\t\t\t\t'cc_contact_atom': {\n",
    "\t\t\t\t\t'atom': 'O',\n",
    "\t\t\t\t\t'fragment': 'carboxylic_acid',\n",
    "\t\t\t\t\t'coordinates': {\n",
    "\t\t\t\t\t\t'cartesian': [1.4354,5.642,-0.5986],\n",
    "\t\t\t\t\t\t'fractional': [0.1227,0.8585,-0.054]\n",
    "\t\t\t\t\t},\n",
    "\t\t\t\t\t'bond_vectors': [-0.7701,3.194,-1.7072],\n",
    "\t\t\t\t\t'reference_bond_vectors': [-1.0013,3.5639,0.0735],\n",
    "\t\t\t\t\t'reference_bond_vectors_spherical': [3.7027,88.8629,105.6929]            \n",
    "\t\t\t\t}\n",
    "\t\t\t},\n",
    "\t\t\t...\n",
    "\t\t}\n",
    "\t\t'hbonds': {\n",
    "\t\t\t'O1_H1_O2': {\n",
    "\t\t\t\t'hb_atoms': ['O','H','O'],\n",
    "\t\t\t\t'hb_length': 1.6839,\n",
    "\t\t\t\t'hb_da_distance': 2.6421,\n",
    "\t\t\t\t'hb_angle': 159.0931,\n",
    "\t\t\t\t'hb_is_in_los': True,\n",
    "\t\t\t\t'hb_donor_coordinates': [1.4354,5.642,-0.5986],\n",
    "\t\t\t\t'hb_h_coordinates': [1.0214,6.552,-0.6131],\n",
    "\t\t\t\t'hb_acceptor_coordinates': [-0.0122,7.8028,-1.063]\n",
    "\t\t\t}\n",
    "\t\t}\n",
    "\t},\n",
    "\t'fragments': {\n",
    "\t\t'F01.benzene': {\n",
    "\t\t\t'fragment': 'benzene',\n",
    "\t\t\t'coordinates': {\n",
    "\t\t\t\t'cartesian': [2.2055,2.448,1.1086],\n",
    "\t\t\t\t'fractional': [0.2076,0.3725,0.1]\n",
    "\t\t\t},                \n",
    "\t\t\t'inertia_planes': {\n",
    "\t\t\t\t'e_1': {\n",
    "\t\t\t\t\t'cartesian': [-0.6975,-0.1026,0.7092],\n",
    "\t\t\t\t\t'crystallographic': [-0.6676,-0.0577,0.7423],\n",
    "\t\t\t\t\t'perpendicular_vectors': {\n",
    "\t\t\t\t\t\t'vector_1': [1,0,1],\n",
    "\t\t\t\t\t\t'vector_2': [5,0,4],\n",
    "\t\t\t\t\t\t'angle_1': 93.03,\n",
    "\t\t\t\t\t\t'angle_2': 86.7\n",
    "\t\t\t\t\t},\n",
    "\t\t\t\t\t'min_distance_to reference_points': 0.0081\n",
    "\t\t\t\t},\n",
    "\t\t\t\t...\n",
    "\t\t\t},\n",
    "\t\t\t'atoms': {\n",
    "\t\t\t\t'C2': {\n",
    "\t\t\t\t\t'species': 'C',\n",
    "\t\t\t\t\t'coordinates': {\n",
    "\t\t\t\t\t\t'cartesian': [1.6445,3.6934,0.7305],\n",
    "\t\t\t\t\t\t'fractional': [0.1539,0.562,0.0659]\n",
    "\t\t\t\t\t},\n",
    "\t\t\t\t\t'bond_vectors': {\n",
    "\t\t\t\t\t\t'cartesian': [-0.561,1.2454,-0.3781],\n",
    "\t\t\t\t\t\t'fractional': [-0.0537,0.1895,-0.0341]\n",
    "\t\t\t\t\t},\n",
    "\t\t\t\t\t'dzzp_min': 0.0028\n",
    "\t\t\t\t},\n",
    "\t\t\t\t...\n",
    "\t\t\t}\n",
    "\t\t}\n",
    "\t}\n",
    "}\n",
    "```\n",
    "\n",
    "<br><h4 style='display: inline;'>Key Descriptions</h4><br>\n",
    "\n",
    "- ``crystal``\n",
    "\tContains all data specific to the crystal structure.\n",
    "\n",
    "- ``str_id``\n",
    "\tA unique identifier for the structure.\n",
    "\n",
    "- ``space_group``\n",
    "\tThe space group of the crystal structure.\n",
    "\n",
    "- ``z_crystal``\n",
    "\tThe number of formula units per unit cell.\n",
    "\n",
    "- ``z_prime``\n",
    "\tThe number of asymmetric units in the crystal structure.\n",
    "\n",
    "- ``formula``\n",
    "\tThe chemical formula of the crystal.\n",
    "\n",
    "- ``species``\n",
    "\tA list of unique atomic species present in the crystal.\n",
    "\n",
    "- ``cell_lengths``\n",
    "\tThe lengths of the cell edges $(a, b, c)$.\n",
    "\n",
    "- ``scaled_cell_lengths``\n",
    "\tCell lengths scaled relative to the longest cell edge.\n",
    "\n",
    "- ``cell_angles``\n",
    "\tThe angles between the cell edges $(\\alpha, \\beta, \\gamma)$.\n",
    "\n",
    "- ``cell_volume``\n",
    "\tThe volume of the crystal's unit cell.\n",
    "\n",
    "- ``cell_density``\n",
    "\tThe density of the crystal calculated from the unit cell volume and formula weight.\n",
    "\n",
    "- ``vdWFV``\n",
    "\tVan der Waals fraction volume.\n",
    "\n",
    "- ``SAS``\n",
    "\tSurface area to volume ratio.\n",
    "\n",
    "- ``lattice_vectors``\n",
    "\tA list of the three lattice vectors defining the unit cell.\n",
    "\n",
    "- ``lattice_energy``\n",
    "\tContains various components of the calculated lattice energy.\n",
    "\t\n",
    "\t- ``total``: The total lattice energy.\n",
    "\t- ``electrostatic``: The electrostatic contribution to the lattice energy.\n",
    "\t- ``vdW``: The vdW contribution to the lattice energy.\n",
    "\t- ``vdW_attraction``: The attractive vdW contribution to the lattice energy.\n",
    "\t- ``vdW_repulsion``: The respulsive vdW contribution to the lattice energy.\n",
    "\t- ``h-bond``: The hbond contribution to the lattice energy.\n",
    "\t- ``h-bond_attraction``: The attractive hbond contribution to the  lattice energy.\n",
    "\t- ``h-bond_repulsion``: The repulsive hbond contribution to the lattice energy.\n",
    "\t\n",
    "- ``close_contacts``\n",
    "\tDetails of close atomic contacts within the crystal structure.\n",
    "\t\n",
    "\t- ``XA_FA_YB_FB``: The label for the contact (labels of the atoms and the respective fragments in the structure).\n",
    "\t\n",
    "\t\t- ``cc_length``: The length of the contact in Angstroms.\n",
    "\t\t- ``cc_type``: The type of the contact (``vdW`` or ``hbond``).\n",
    "\t\t- ``cc_is_in_los``: If the contact is in line of sight (``True`` of ``False``).\n",
    "\t\t- ``cc_central_atom``: The details for the central atom of the contact pair.\n",
    "\t\t\n",
    "\t\t\t- ``atom``: The species of the central atom.\n",
    "\t\t\t- ``fragment``: The fragment of the central atom.\n",
    "\t\t\t- ``coordinates``: The coordinates of the central atom (``cartesian`` and ``fractional``).\n",
    "\t\t\t- ``bond_vetors``: The cartesian bond vectors for the central atom relative to the center of mass of the fragment.\n",
    "\t\t\t- ``reference_bond_vetors``: The cartesian bond vectors for the central atom relative to the center of mass of the fragment in the inertia frame of the fragment.\n",
    "\t\t\t\n",
    "\t\t- ``cc_contact_atom``: The details for the contact atom of the contact pair.\n",
    "\t\t\n",
    "\t\t\t- ``atom``: The species of the central atom.\n",
    "\t\t\t- ``fragment``: The fragment of the central atom.\n",
    "\t\t\t- ``coordinates``: The coordinates of the central atom (``cartesian`` and ``fractional``).\n",
    "\t\t\t- ``bond_vetors``: The cartesian bond vectors for the central atom relative to the center of mass of the fragment.\n",
    "\t\t\t- ``reference_bond_vetors``: The cartesian bond vectors for the central atom relative to the center of mass of the fragment in the inertia frame of the fragment.\n",
    "\t\t\t- ``reference_bond_vetors_spherical``: The bond vectors in spherical coordinates for the central atom relative to the center of mass of the fragment in the inertia frame of the fragment.\n",
    "\n",
    "- ``hbonds``\n",
    "\tDetails of hydrogen bonds within the crystal structure.\n",
    "\t\n",
    "\t- ``XA_HB_YC``: The hbond label.\n",
    "\t\n",
    "\t\t- ``hb_atoms``: A list of the atomic species forming the hydrogen bond. The first atom coorespond to the donor and the thord to the acceptor of the bond.\n",
    "\t\t- ``hb_length``: The length of the hydrogen bond in Angstroms.\n",
    "\t\t- ``hb_da_distance``: The donor-acceptor distance in Angstroms.\n",
    "\t\t- ``hb_angle``: The angle of the hydrogen bond.\n",
    "\t\t- ``hb_is_in_los``: : If the hydrogen bond is in line of sight (``True`` of ``False``).\n",
    "\t\t- ``hb_donor_coordinates``: The cartesian coordinates of the donor atom.\n",
    "\t\t- ``hb_h_coordinates``: The cartesian coordinates of the hydrogen atom.\n",
    "\t\t- ``hb_acceptor_coordinates``: The cartesian coordinates of the acceptor atom.\n",
    "\n",
    "- ``fragments``\n",
    "\tDetails of individual molecular or ionic fragments within the structure, including coordinates and properties.\n",
    "\t\n",
    "\t- ``FXX.fragment_name``: The label for the fragment.\n",
    "\t\n",
    "\t\t- ``fragment``: The fragment name.\n",
    "\t\t- ``coordinates``: The coordinates for the center of mass of the fragment (``cartesian`` and ``fractional``).\n",
    "\t\t- ``inertia_planes``: The details for the inertia planes of the fragments.\n",
    "\t\t\n",
    "\t\t\t- ``e_i``: The label of the inertia plane (:math:`i=1,2,3`).\n",
    "\t\t\t\t\n",
    "\t\t\t\t- ``cartesian``: The normal vector in the cartesian coordinate system.\n",
    "\t\t\t\t- ``crystallographic``: The normal vector in the crystallographic coordinate system.\n",
    "\t\t\t\t- ``perpendicular_vectors``: Details for the near-perpendicular vectors from the set $\\mathbf{n}_c$.\n",
    "\t\t\t\t\t\n",
    "\t\t\t\t\t- ``vector_1``, ``vector_2``: The components of the two near-perpendicular vectors from the set $\\mathbf{n}_c$.\n",
    "\t\t\t\t\t- ``angle_1``, ``angle_2``: The angles between the vector ``e_i`` and ``vector_1``, ``vector_2`` respectively.\n",
    "\t\t\t\t\t\n",
    "\t\t\t\t- ``min_distance_to_reference_points``: The minimum distance of the inertia plane to the reference points of the unit cell.\n",
    "\t\t\t\t\n",
    "\t\t- ``atoms``: The details for the atoms comprising the fragment.\n",
    "\t\t\t\n",
    "\t\t\t- ``XA``: The label of the atom.\n",
    "\t\t\t\n",
    "\t\t\t\t- ``species``: The species of the atom.\n",
    "\t\t\t\t- ``coordinates``: The coordinates for the atom (``cartesian`` and ``fractional``).\n",
    "\t\t\t\t- ``bond_vectors``: The bond vectors of the atom to the center of mass of the fragment (``cartesian`` and ``fractional``).\n",
    "\t\t\t\t- ``dzzp_min``: The minimum distance of the atom to the ZZP plane family."
   ]
  },
  {
   "cell_type": "code",
   "execution_count": null,
   "id": "ef61a271-a616-461f-97c7-db35731519da",
   "metadata": {},
   "outputs": [
    {
     "name": "stdout",
     "output_type": "stream",
     "text": [
      "Getting structure data.\n"
     ]
    }
   ],
   "source": [
    "if data_extraction and extraction_input_parameters['get_structure_data']:\n",
    "    print('Getting structure data.')\n",
    "    get_structure_data(extraction_input_parameters)"
   ]
  },
  {
   "cell_type": "markdown",
   "id": "8a2bf4e8-7275-4f34-9f2a-6146a3a37b48",
   "metadata": {},
   "source": [
    "<details> \n",
    "<summary><h4 style='display: inline;'>Get Structure Filter Data</h4></summary><br>\n",
    "\n",
    "The algorithm also generates a file ``'prefix'_structures_filter_data.json`` within the ``db_data`` folder, that contains compact information for each structures that can be used to rapidly filter structures in the post extraction analysis step. Each structure is represented as a dictionary entry, with the key being identical to the CSD RefCode of the structure. The format for each entry is as follows: \n",
    "```python\n",
    "{\t\n",
    "\t'ACSALA35': {\n",
    "\t\t'space_group': 'P21/c',\n",
    "\t\t'z_crystal': 4.0,\n",
    "\t\t'z_prime': 1.0,\n",
    "\t\t'species': ['C','H','O'],\n",
    "\t\t'fragments': ['benzene','carboxylic_acid','ester_aromatic-aliphatic'],\n",
    "\t\t'contact_pairs': [\n",
    "\t\t\t['C','O','vdW',False],\n",
    "\t\t\t...\n",
    "\t\t],\n",
    "\t\t'contact_central_fragments': [\n",
    "\t\t\t['benzene','vdW',False],\n",
    "\t\t\t...\n",
    "\t\t],\n",
    "\t\t'contact_fragment_pairs': [\n",
    "\t\t\t['benzene','carboxylic_acid','vdW',False],\n",
    "\t\t\t...\n",
    "\t\t]\n",
    "\t},\n",
    "}\n",
    "```"
   ]
  },
  {
   "cell_type": "code",
   "execution_count": null,
   "id": "5820da1f-f897-4e7b-837f-480458b96abd",
   "metadata": {},
   "outputs": [],
   "source": [
    "if data_extraction and extraction_input_parameters['get_structure_filter_data']:\n",
    "    print('Getting structure filter data.')\n",
    "    get_structure_filter_data(extraction_input_parameters)"
   ]
  },
  {
   "cell_type": "markdown",
   "id": "b609f0cf-acb1-403b-bff6-188665c2ec5e",
   "metadata": {},
   "source": [
    "#### Finish Timing the Data Extraction Process and Print End Time and CPU Time"
   ]
  },
  {
   "cell_type": "code",
   "execution_count": null,
   "id": "bdd89e48-b43a-4a16-88c1-a488753e5bb9",
   "metadata": {},
   "outputs": [],
   "source": [
    "if data_extraction:\n",
    "    now = datetime.now()    \n",
    "    end = timer()\n",
    "    cpu_time = timer() - start\n",
    "    hours, minutes, seconds = convert_seconds_to_hms(cpu_time)\n",
    "    now = datetime.now()\n",
    "    print('Data Extraction Process Completed At ', now.strftime('%Y-%m-%d %H:%M:%S'))\n",
    "    print(f'Total Data Extraction Process CPU Time: {hours}h {minutes}m {seconds:.2f}s')"
   ]
  },
  {
   "cell_type": "markdown",
   "id": "e22dd629-615e-4cb7-ab49-c68436cdfd36",
   "metadata": {},
   "source": [
    "<details>\n",
    "<summary><h3 style='display: inline;'>Analyze Data</h3></summary><br>\n",
    "\n",
    "In the following cells, the code executes the data analysis tasks defined by the user."
   ]
  },
  {
   "cell_type": "markdown",
   "id": "14dbc6ef-57cc-439a-a952-e8ae42049fac",
   "metadata": {},
   "source": [
    "<details>\n",
    "<summary><h4 style='display: inline;'>Create Data Analysis Input Parameters Dictionary</h4></summary><br>\n",
    "\n",
    "The input data must be converted to a dictionary that is passed to the data extraction functions."
   ]
  },
  {
   "cell_type": "code",
   "execution_count": null,
   "id": "8ce9401a-048d-4ef3-b6f7-d43234e1f010",
   "metadata": {},
   "outputs": [],
   "source": [
    "analysis_input_parameters = {\n",
    "    'data_directory': data_directory,\n",
    "    'data_prefix': data_extraction_prefix,\n",
    "    'analysis_prefix': data_analysis_prefix,\n",
    "    'target_families': analysis_data_filters['target_families'],\n",
    "    'target_structures': analysis_data_filters['target_structures'],\n",
    "    'target_space_groups': analysis_data_filters['target_space_groups'],\n",
    "    'target_z_crystal_values': analysis_data_filters['target_z_crystal_values'],\n",
    "    'target_z_prime_values': analysis_data_filters['target_z_prime_values'],\n",
    "    'target_species': analysis_data_filters['target_species'],\n",
    "    'target_structure_fragments': analysis_data_filters['target_structure_fragments'],\n",
    "    'target_contact_pairs': analysis_data_filters['target_contact_pairs'],\n",
    "    'target_contact_central_fragments': analysis_data_filters['target_contact_central_fragments'],\n",
    "    'target_contact_fragment_pairs': analysis_data_filters['target_contact_fragment_pairs'],\n",
    "    'general_plot_options': general_plot_options,\n",
    "    'histograms_options': histograms_options,\n",
    "    '2D_scatter_plots_options': scatter_plots_2D_options,\n",
    "    '3D_scatter_plots_options': scatter_plots_3D_options\n",
    "}"
   ]
  },
  {
   "cell_type": "markdown",
   "id": "f8132981-8613-484c-8c0a-31d95f3bbbb2",
   "metadata": {},
   "source": [
    "#### Start Timing the Data Analysis and Plotting Process and Print Start Time "
   ]
  },
  {
   "cell_type": "code",
   "execution_count": null,
   "id": "ae4ecb13-d4d4-4325-9f48-f65ab14c7755",
   "metadata": {},
   "outputs": [],
   "source": [
    "if data_analysis:\n",
    "    now = datetime.now()    \n",
    "    start = timer()\n",
    "    print('Data Analysis Process Started At ', now.strftime('%Y-%m-%d %H:%M:%S'))"
   ]
  },
  {
   "cell_type": "markdown",
   "id": "3df152e9-c178-4507-a01f-5a14f921de3c",
   "metadata": {},
   "source": [
    "#### Load the Available List of Variables"
   ]
  },
  {
   "cell_type": "code",
   "execution_count": null,
   "id": "837b4fcc-d6f3-4b58-9f74-b7be11c1593a",
   "metadata": {},
   "outputs": [],
   "source": [
    "if data_analysis:\n",
    "    with open('../source_data/variables.json') as f:\n",
    "        variables = json.load(f)"
   ]
  },
  {
   "cell_type": "markdown",
   "id": "48b45d45-0b10-44ca-9a51-c54dc799073b",
   "metadata": {},
   "source": [
    "#### Create the Directories to Save Plots and Analysis Data"
   ]
  },
  {
   "cell_type": "code",
   "execution_count": null,
   "id": "be38089e-87b4-4df8-bfd1-97ae0299a1ca",
   "metadata": {},
   "outputs": [],
   "source": [
    "if data_analysis:\n",
    "    save_directories = [plots_directory + '_'.join([data_analysis_prefix,'analysis']) + '/',\n",
    "                        data_analysis_directory + '_'.join([data_analysis_prefix,'analysis']) + '/']\n",
    "    for directory in save_directories:\n",
    "        os.makedirs(directory, exist_ok=True)"
   ]
  },
  {
   "cell_type": "markdown",
   "id": "0934df45-a7be-438d-98de-0dd13c05b96e",
   "metadata": {},
   "source": [
    "<details>\n",
    "<summary><h4 style='display: inline;'>Get the Data for the Analysis</h4></summary><br>\n",
    "\n",
    "The first step for the data analysis is to gather the data from the indivudual structure files. Reading a large number of files can be a time consuming and memory intensive process, so the algorithm utilizes the compact structure information stored in the `'data_extraction_prefix'_structures_filter_data` to gather information only from the structures of interest. Initialy the algorithm creates a list of the **active structures** that are consistent with the user-defined `analysis_data_filters`. Then the code identifies all the user-defined **active variables** that are required for the analysis and creation of histogram/scatter plots. Each of these variables is member of one of the 5 variable families discussed in section **Set the Variables and Options for the Histograms**. For each **active variable family** the code adds to the list of active variables, all the variables that can be used as filters for the plots. Once the complete list of active variables is set, the algorithm reads the structure data only for the active structures. The data are stored in a dictionary according to the variable family and space group such as\n",
    "\n",
    "```python\n",
    "{\n",
    "    'structure': {\n",
    "        'P-1': {\n",
    "            'cell_length_a': [...],\n",
    "            'cell_length_b': [...],\n",
    "            ...\n",
    "        }\n",
    "        'P21/c': {\n",
    "            'cell_length_a': [...],\n",
    "            'cell_length_b': [...],\n",
    "            ...\n",
    "        },\n",
    "    },\n",
    "    'fragment': {\n",
    "        'P-1': {\n",
    "            'fragment_x': [...],\n",
    "            'fragment_y': [...],\n",
    "            ...\n",
    "        }\n",
    "        'P21/c': {\n",
    "            'fragment_x': [...],\n",
    "            'fragment_y': [...],\n",
    "            ...\n",
    "        },\n",
    "    },\n",
    "    ...\n",
    "}\n",
    "```\n",
    "\n",
    "This data structure is build to facilitate subsequent filtering of the data based on space group and/or other prroperties of the structure. \n",
    "\n",
    "**NOTE:** This process ignores the detailed filters that are applied for each plot when structuring the `histograms_options`, `scatter_plots_2D_options` and `scatter_plots_3D_options` dictionaries."
   ]
  },
  {
   "cell_type": "code",
   "execution_count": null,
   "id": "4fc66333-b296-48cc-9e73-2c45eee1715c",
   "metadata": {},
   "outputs": [],
   "source": [
    "if data_analysis:\n",
    "    print('Getting structure data for the analysis.')\n",
    "    data = get_analysis_data(analysis_input_parameters,variables)"
   ]
  },
  {
   "cell_type": "markdown",
   "id": "9bf4760b-1c4a-4dfa-8917-34300572953e",
   "metadata": {},
   "source": [
    "<details>\n",
    "<summary><h4 style='display: inline;'>Create Plots</h4></summary><br>\n",
    "\n",
    "Once all the required data are collected the code proceed to generate the required histograms and scatter plots. Depending on the selected output formats, the code will generate publication-ready `*.png` format plots and/or an interactive `*.html` plots. "
   ]
  },
  {
   "cell_type": "markdown",
   "id": "6751ce0b-eb04-4fc2-a1f6-aadde231c554",
   "metadata": {},
   "source": [
    "##### Create Histogram Plots"
   ]
  },
  {
   "cell_type": "code",
   "execution_count": null,
   "id": "9a33284c-5c60-4ee0-9086-825e593f3e3b",
   "metadata": {},
   "outputs": [],
   "source": [
    "if data_analysis and analysis_actions['create_histograms']:\n",
    "    print('Creating histograms for the selected variables')\n",
    "    create_histogram(analysis_input_parameters,save_directories[0],data)"
   ]
  },
  {
   "cell_type": "markdown",
   "id": "21976f71-38b1-4160-ae96-a46a24d687f6",
   "metadata": {},
   "source": [
    "##### Create 2D Scatter Plots"
   ]
  },
  {
   "cell_type": "code",
   "execution_count": null,
   "id": "5a4a32c2-7af2-4410-985d-0004b975ec09",
   "metadata": {},
   "outputs": [],
   "source": [
    "if data_analysis and analysis_actions['create_2D_scatter_plots']:    \n",
    "    print('Creating 2D scatter plots for the selected variables')\n",
    "    create_scatter_plot(2,analysis_input_parameters,save_directories[0],data)"
   ]
  },
  {
   "cell_type": "markdown",
   "id": "140d94ad-b7a5-4cd9-9af2-16259cfad735",
   "metadata": {},
   "source": [
    "##### Create 3D Scatter Plots"
   ]
  },
  {
   "cell_type": "code",
   "execution_count": null,
   "id": "bd57fdb8-a665-4e87-82a6-510c6a8782b2",
   "metadata": {},
   "outputs": [],
   "source": [
    "if data_analysis and analysis_actions['create_3D_scatter_plots']:    \n",
    "    print('Creating 3D scatter plots for the selected variables')\n",
    "    create_scatter_plot(3,analysis_input_parameters,save_directories[0],data)"
   ]
  },
  {
   "cell_type": "markdown",
   "id": "016953cf-85f3-41d2-a5b3-3323ba2d23f3",
   "metadata": {},
   "source": [
    "#### Finish Timing the Data Analysis and Plotting Process and Print End Time and CPU Time"
   ]
  },
  {
   "cell_type": "code",
   "execution_count": null,
   "id": "9bdd9d9d-fb58-4d3d-acdd-cd2af1f0ef48",
   "metadata": {},
   "outputs": [],
   "source": [
    "if data_analysis:\n",
    "    now = datetime.now()    \n",
    "    end = timer()\n",
    "    cpu_time = timer() - start\n",
    "    hours, minutes, seconds = convert_seconds_to_hms(cpu_time)\n",
    "    now = datetime.now()\n",
    "    print('Data Extraction Process Completed At ', now.strftime('%Y-%m-%d %H:%M:%S'))\n",
    "    print(f'Total Data Extraction Process CPU Time: {hours}h {minutes}m {seconds:.2f}s')"
   ]
  }
 ],
 "metadata": {
  "kernelspec": {
   "display_name": "Python 3 (ipykernel)",
   "language": "python",
   "name": "python3"
  },
  "language_info": {
   "codemirror_mode": {
    "name": "ipython",
    "version": 3
   },
   "file_extension": ".py",
   "mimetype": "text/x-python",
   "name": "python",
   "nbconvert_exporter": "python",
   "pygments_lexer": "ipython3",
   "version": "3.9.18"
  }
 },
 "nbformat": 4,
 "nbformat_minor": 5
}
